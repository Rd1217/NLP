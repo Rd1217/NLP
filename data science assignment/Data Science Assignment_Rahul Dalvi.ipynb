{
 "cells": [
  {
   "cell_type": "markdown",
   "id": "4495bd64",
   "metadata": {
    "scrolled": true
   },
   "source": [
    "# Fake Review Classification"
   ]
  },
  {
   "cell_type": "code",
   "execution_count": 1,
   "id": "6d3604f7",
   "metadata": {},
   "outputs": [
    {
     "name": "stderr",
     "output_type": "stream",
     "text": [
      "[nltk_data] Downloading package stopwords to\n",
      "[nltk_data]     C:\\Users\\Rahul\\AppData\\Roaming\\nltk_data...\n",
      "[nltk_data]   Package stopwords is already up-to-date!\n",
      "[nltk_data] Downloading package vader_lexicon to\n",
      "[nltk_data]     C:\\Users\\Rahul\\AppData\\Roaming\\nltk_data...\n",
      "[nltk_data]   Package vader_lexicon is already up-to-date!\n"
     ]
    },
    {
     "data": {
      "text/plain": [
       "True"
      ]
     },
     "execution_count": 1,
     "metadata": {},
     "output_type": "execute_result"
    }
   ],
   "source": [
    "import pandas as pd  \n",
    "import re \n",
    "import nltk\n",
    "from nltk.corpus import stopwords\n",
    "from sklearn.feature_extraction.text import TfidfVectorizer\n",
    "from sklearn.model_selection import train_test_split\n",
    "from sklearn.pipeline import Pipeline\n",
    "from sklearn.metrics import accuracy_score\n",
    "from nltk.sentiment import SentimentIntensityAnalyzer\n",
    "from sklearn.ensemble import RandomForestClassifier\n",
    "from sklearn.metrics import classification_report\n",
    "nltk.download('stopwords')\n",
    "nltk.download('vader_lexicon')"
   ]
  },
  {
   "cell_type": "code",
   "execution_count": 2,
   "id": "33386264",
   "metadata": {},
   "outputs": [],
   "source": [
    "df = pd.read_csv(\"C:\\\\Users\\\\Rahul\\\\Downloads\\\\Sample Dataset for Analysis.csv\")"
   ]
  },
  {
   "cell_type": "code",
   "execution_count": 3,
   "id": "58581c36",
   "metadata": {},
   "outputs": [
    {
     "data": {
      "text/plain": [
       "Index(['No.', 'Page URL', 'Store Type', 'Store Name', 'Address',\n",
       "       'Rating/Review Count', 'Reviewer Name', 'Review Text',\n",
       "       'Reviewer Rating', 'Review Date', 'Store Type.1', 'Review Count'],\n",
       "      dtype='object')"
      ]
     },
     "execution_count": 3,
     "metadata": {},
     "output_type": "execute_result"
    }
   ],
   "source": [
    "df.columns"
   ]
  },
  {
   "cell_type": "code",
   "execution_count": 4,
   "id": "ae51749e",
   "metadata": {},
   "outputs": [],
   "source": [
    "def preprocess_text(text):\n",
    "    if isinstance(text, str):\n",
    "        text = text.lower()  # Convert text to lowercase\n",
    "        text = re.sub(r'\\W', ' ', text)  # Remove non-alphanumeric characters\n",
    "        text = re.sub(r'\\s+', ' ', text)  # Remove extra whitespaces\n",
    "        text = ' '.join(word for word in text.split() if word not in stopwords.words('english'))  # Remove stopwords\n",
    "    return text\n"
   ]
  },
  {
   "cell_type": "code",
   "execution_count": 5,
   "id": "6b9014f6",
   "metadata": {},
   "outputs": [
    {
     "data": {
      "text/plain": [
       "0                                                     NaN\n",
       "1                               customer friendly service\n",
       "2                                                     NaN\n",
       "3                                                     NaN\n",
       "4                                                     NaN\n",
       "                              ...                        \n",
       "5995                                     great experience\n",
       "5996                                                  NaN\n",
       "5997    compared dmart places banglore rt nagar branch...\n",
       "5998                                                  NaN\n",
       "5999                                                  NaN\n",
       "Name: processed_text, Length: 6000, dtype: object"
      ]
     },
     "execution_count": 5,
     "metadata": {},
     "output_type": "execute_result"
    }
   ],
   "source": [
    "df['processed_text'] = df['Review Text'].apply(preprocess_text)\n",
    "df['processed_text']"
   ]
  },
  {
   "cell_type": "code",
   "execution_count": 6,
   "id": "49b2400d",
   "metadata": {},
   "outputs": [],
   "source": [
    "X_train, X_test, y_train, y_test = train_test_split(df['processed_text'], df['Reviewer Rating'], test_size=0.2, random_state=42)"
   ]
  },
  {
   "cell_type": "code",
   "execution_count": 7,
   "id": "e2597b20",
   "metadata": {},
   "outputs": [],
   "source": [
    "X_train.fillna('', inplace=True)\n",
    "X_test.fillna('', inplace=True)\n"
   ]
  },
  {
   "cell_type": "code",
   "execution_count": 8,
   "id": "5c6adac9",
   "metadata": {},
   "outputs": [],
   "source": [
    "X_train.dropna(inplace=True)\n",
    "X_test.dropna(inplace=True)\n"
   ]
  },
  {
   "cell_type": "code",
   "execution_count": 9,
   "id": "53a76bce",
   "metadata": {},
   "outputs": [],
   "source": [
    "vectorizer = TfidfVectorizer()\n",
    "X_train_vectorized = vectorizer.fit_transform(X_train)\n",
    "X_test_vectorized = vectorizer.transform(X_test)\n",
    "import pickle\n",
    "\n",
    "with open('vectorized.pkl', 'wb') as file:\n",
    "    pickle.dump(X_train_vectorized, file)"
   ]
  },
  {
   "cell_type": "code",
   "execution_count": 10,
   "id": "99e3c249",
   "metadata": {},
   "outputs": [],
   "source": [
    "y_train = y_train.astype(int)\n",
    "rfmodel = RandomForestClassifier(n_estimators=100, random_state=42)\n",
    "model=rfmodel.fit(X_train_vectorized, y_train)"
   ]
  },
  {
   "cell_type": "code",
   "execution_count": 11,
   "id": "0e41c963",
   "metadata": {},
   "outputs": [
    {
     "name": "stdout",
     "output_type": "stream",
     "text": [
      "Accuracy: 0.465\n"
     ]
    }
   ],
   "source": [
    "y_test = y_test.astype(int)\n",
    "y_pred = model.predict(X_test_vectorized)\n",
    "accuracy = accuracy_score(y_test, y_pred)\n",
    "print(\"Accuracy:\", accuracy)"
   ]
  },
  {
   "cell_type": "code",
   "execution_count": 16,
   "id": "ef85e019",
   "metadata": {
    "scrolled": true
   },
   "outputs": [
    {
     "name": "stdout",
     "output_type": "stream",
     "text": [
      "              precision    recall  f1-score   support\n",
      "\n",
      "           0       0.00      0.00      0.00         2\n",
      "           1       0.57      0.28      0.38        89\n",
      "           2       0.50      0.03      0.05        38\n",
      "           3       0.21      0.03      0.05       191\n",
      "           4       0.38      0.09      0.14       352\n",
      "           5       0.47      0.94      0.63       528\n",
      "\n",
      "    accuracy                           0.47      1200\n",
      "   macro avg       0.35      0.23      0.21      1200\n",
      "weighted avg       0.41      0.47      0.35      1200\n",
      "\n"
     ]
    },
    {
     "name": "stderr",
     "output_type": "stream",
     "text": [
      "C:\\Users\\Rahul\\Anaconda3\\envs\\pratap\\lib\\site-packages\\sklearn\\metrics\\_classification.py:1327: UndefinedMetricWarning: Precision and F-score are ill-defined and being set to 0.0 in labels with no predicted samples. Use `zero_division` parameter to control this behavior.\n",
      "  _warn_prf(average, modifier, msg_start, len(result))\n",
      "C:\\Users\\Rahul\\Anaconda3\\envs\\pratap\\lib\\site-packages\\sklearn\\metrics\\_classification.py:1327: UndefinedMetricWarning: Precision and F-score are ill-defined and being set to 0.0 in labels with no predicted samples. Use `zero_division` parameter to control this behavior.\n",
      "  _warn_prf(average, modifier, msg_start, len(result))\n",
      "C:\\Users\\Rahul\\Anaconda3\\envs\\pratap\\lib\\site-packages\\sklearn\\metrics\\_classification.py:1327: UndefinedMetricWarning: Precision and F-score are ill-defined and being set to 0.0 in labels with no predicted samples. Use `zero_division` parameter to control this behavior.\n",
      "  _warn_prf(average, modifier, msg_start, len(result))\n"
     ]
    }
   ],
   "source": [
    "#classification report\n",
    "report = classification_report(y_test, y_pred)\n",
    "print(report)"
   ]
  },
  {
   "cell_type": "code",
   "execution_count": 17,
   "id": "8ef9b4a9",
   "metadata": {},
   "outputs": [
    {
     "name": "stdout",
     "output_type": "stream",
     "text": [
      "The review is classified as fake.\n"
     ]
    }
   ],
   "source": [
    "import pickle\n",
    "\n",
    "# Load the saved model from file\n",
    "with open('model.pkl', 'rb') as file:\n",
    "    model = pickle.load(file)\n",
    "\n",
    "# Load the saved vectorizer from file\n",
    "with open('vectorizer.pkl', 'rb') as file:\n",
    "    vectorizer = pickle.load(file)\n",
    "\n",
    "# Example review\n",
    "preprocessed_review = \"This is a fake review.\"\n",
    "\n",
    "# Vectorize the review\n",
    "vectorized_review = vectorizer.transform([preprocessed_review])\n",
    "\n",
    "# Make a prediction\n",
    "prediction = model.predict(vectorized_review)\n",
    "\n",
    "if prediction == 0:\n",
    "    print(\"The review is classified as real.\")\n",
    "else:\n",
    "    print(\"The review is classified as fake.\")\n"
   ]
  },
  {
   "cell_type": "markdown",
   "id": "eabcbda9",
   "metadata": {},
   "source": [
    "# Senitiment Analaysis"
   ]
  },
  {
   "cell_type": "code",
   "execution_count": 18,
   "id": "27aebea4",
   "metadata": {},
   "outputs": [
    {
     "name": "stdout",
     "output_type": "stream",
     "text": [
      "neutral     4493\n",
      "positive    1293\n",
      "negative     214\n",
      "Name: Sentiment, dtype: int64\n"
     ]
    }
   ],
   "source": [
    "sid = SentimentIntensityAnalyzer()\n",
    "\n",
    "def classify_sentiment(review):\n",
    "    review= str(review) \n",
    "    sentiment_scores = sid.polarity_scores(review)\n",
    "    compound_score = sentiment_scores['compound']\n",
    "    \n",
    "    if compound_score >= 0.05:\n",
    "        return 'positive'\n",
    "    elif compound_score <= -0.05:\n",
    "        return 'negative'\n",
    "    else:\n",
    "        return 'neutral'\n",
    "\n",
    "df['Sentiment'] = df['processed_text'].apply(classify_sentiment)\n",
    "\n",
    "sentiment_counts = df['Sentiment'].value_counts()\n",
    "print(sentiment_counts)"
   ]
  },
  {
   "cell_type": "markdown",
   "id": "cadf4c64",
   "metadata": {},
   "source": [
    "# Descriptive Analytics"
   ]
  },
  {
   "cell_type": "code",
   "execution_count": 19,
   "id": "877a8e60",
   "metadata": {},
   "outputs": [
    {
     "name": "stdout",
     "output_type": "stream",
     "text": [
      "                No.  Rating/Review Count  Reviewer Rating  Review Count\n",
      "count   6000.000000          5921.000000      6000.000000           0.0\n",
      "mean   43509.386500          5996.516129         4.022333           NaN\n",
      "std    27836.255081          9665.883040         1.184054           NaN\n",
      "min        4.000000            53.000000         0.500000           NaN\n",
      "25%    18111.000000           793.000000         4.000000           NaN\n",
      "50%    42637.000000          1500.000000         4.000000           NaN\n",
      "75%    67322.750000          4348.000000         5.000000           NaN\n",
      "max    92884.000000         53402.000000         5.000000           NaN\n"
     ]
    }
   ],
   "source": [
    "import matplotlib.pyplot as plt\n",
    "import seaborn as sns\n",
    "\n",
    "# Descriptive statistics\n",
    "print(df.describe())\n"
   ]
  },
  {
   "cell_type": "code",
   "execution_count": 20,
   "id": "16627965",
   "metadata": {},
   "outputs": [
    {
     "data": {
      "image/png": "[encoded data removed]",
      "text/plain": [
       "<Figure size 576x432 with 1 Axes>"
      ]
     },
     "metadata": {
      "needs_background": "light"
     },
     "output_type": "display_data"
    }
   ],
   "source": [
    "# Rating distribution\n",
    "rating_counts = df['Reviewer Rating'].value_counts().sort_index()\n",
    "plt.figure(figsize=(8, 6))\n",
    "sns.barplot(x=rating_counts.index, y=rating_counts.values)\n",
    "plt.xlabel('Rating')\n",
    "plt.ylabel('Count')\n",
    "plt.title('Distribution of Ratings')\n",
    "plt.show()"
   ]
  },
  {
   "cell_type": "code",
   "execution_count": 21,
   "id": "bc44635f",
   "metadata": {},
   "outputs": [
    {
     "data": {
      "image/png": "[encoded data removed]",
      "text/plain": [
       "<Figure size 576x432 with 1 Axes>"
      ]
     },
     "metadata": {
      "needs_background": "light"
     },
     "output_type": "display_data"
    }
   ],
   "source": [
    "# Sentiment distribution\n",
    "sentiment_counts = df['Sentiment'].value_counts()\n",
    "plt.figure(figsize=(8, 6))\n",
    "sns.barplot(x=sentiment_counts.index, y=sentiment_counts.values)\n",
    "plt.xlabel('Sentiment')\n",
    "plt.ylabel('Count')\n",
    "plt.title('Distribution of Sentiments')\n",
    "plt.show()"
   ]
  },
  {
   "cell_type": "code",
   "execution_count": 22,
   "id": "9047ecd7",
   "metadata": {},
   "outputs": [
    {
     "data": {
      "image/png": "[encoded data removed]",
      "text/plain": [
       "<Figure size 576x432 with 1 Axes>"
      ]
     },
     "metadata": {
      "needs_background": "light"
     },
     "output_type": "display_data"
    }
   ],
   "source": [
    "# Store type distribution\n",
    "store_type_counts = df['Store Type'].value_counts()\n",
    "plt.figure(figsize=(8, 6))\n",
    "sns.barplot(x=store_type_counts.index, y=store_type_counts.values)\n",
    "plt.xlabel('Store Type')\n",
    "plt.ylabel('Count')\n",
    "plt.title('Distribution of Store Types')\n",
    "plt.xticks(rotation=45)\n",
    "plt.show()"
   ]
  },
  {
   "cell_type": "code",
   "execution_count": 23,
   "id": "ee9fa5f9",
   "metadata": {},
   "outputs": [
    {
     "data": {
      "image/png": "[encoded data removed]",
      "text/plain": [
       "<Figure size 576x432 with 1 Axes>"
      ]
     },
     "metadata": {
      "needs_background": "light"
     },
     "output_type": "display_data"
    }
   ],
   "source": [
    "# Reviewer rating vs. sentiment\n",
    "plt.figure(figsize=(8, 6))\n",
    "sns.boxplot(x=df['Sentiment'], y=df['Reviewer Rating'])\n",
    "plt.xlabel('Sentiment')\n",
    "plt.ylabel('Reviewer Rating')\n",
    "plt.title('Reviewer Rating by Sentiment')\n",
    "plt.show()"
   ]
  },
  {
   "cell_type": "code",
   "execution_count": 24,
   "id": "3a7fc63c",
   "metadata": {},
   "outputs": [
    {
     "data": {
      "image/png": "[encoded data removed]",
      "text/plain": [
       "<Figure size 720x576 with 2 Axes>"
      ]
     },
     "metadata": {
      "needs_background": "light"
     },
     "output_type": "display_data"
    }
   ],
   "source": [
    "# Correlation heatmap\n",
    "correlation_matrix = df.corr()\n",
    "plt.figure(figsize=(10, 8))\n",
    "sns.heatmap(correlation_matrix, annot=True, cmap='coolwarm')\n",
    "plt.title('Correlation Heatmap')\n",
    "plt.show()"
   ]
  },
  {
   "cell_type": "markdown",
   "id": "4df3d0be",
   "metadata": {},
   "source": [
    "# DashBoard"
   ]
  },
  {
   "cell_type": "code",
   "execution_count": null,
   "id": "5f8463b5",
   "metadata": {},
   "outputs": [
    {
     "name": "stdout",
     "output_type": "stream",
     "text": [
      "Dash is running on http://127.0.0.1:8051/\n",
      "\n",
      " * Serving Flask app '__main__'\n",
      " * Debug mode: off\n"
     ]
    },
    {
     "name": "stderr",
     "output_type": "stream",
     "text": [
      "WARNING: This is a development server. Do not use it in a production deployment. Use a production WSGI server instead.\n",
      " * Running on http://127.0.0.1:8051\n",
      "Press CTRL+C to quit\n",
      "127.0.0.1 - - [02/Jun/2023 23:50:03] \"GET / HTTP/1.1\" 200 -\n",
      "127.0.0.1 - - [02/Jun/2023 23:50:03] \"GET /_dash-layout HTTP/1.1\" 200 -\n",
      "127.0.0.1 - - [02/Jun/2023 23:50:03] \"GET /_dash-dependencies HTTP/1.1\" 200 -\n",
      "127.0.0.1 - - [02/Jun/2023 23:50:03] \"GET /_dash-component-suites/dash/dcc/async-graph.js HTTP/1.1\" 304 -\n",
      "127.0.0.1 - - [02/Jun/2023 23:50:03] \"GET /_dash-component-suites/dash/dcc/async-plotlyjs.js HTTP/1.1\" 304 -\n"
     ]
    }
   ],
   "source": [
    "import dash\n",
    "from dash import dcc, html\n",
    "import plotly.express as px\n",
    "import pandas as pd\n",
    "\n",
    "\n",
    "# Create the app\n",
    "app = dash.Dash(__name__)\n",
    "\n",
    "# Rating distribution\n",
    "rating_counts = df['Reviewer Rating'].value_counts().sort_index()\n",
    "rating_fig = px.bar(x=rating_counts.index, y=rating_counts.values)\n",
    "rating_fig.update_layout(title='Distribution of Ratings',xaxis_title='Rating',yaxis_title='Count')\n",
    "\n",
    "# Sentiment distribution\n",
    "sentiment_counts = df['Sentiment'].value_counts()\n",
    "sentiment_fig = px.bar(x=sentiment_counts.index, y=sentiment_counts.values)\n",
    "sentiment_fig.update_layout(title='Distribution of Sentiments',xaxis_title='Sentiment',yaxis_title='Count')\n",
    "\n",
    "# Store type distribution\n",
    "store_type_counts = df['Store Type'].value_counts()\n",
    "store_type_fig = px.bar(x=store_type_counts.index, y=store_type_counts.values)\n",
    "store_type_fig.update_layout(title='Distribution of Store Types',xaxis_title='Store Type',yaxis_title='Count')\n",
    "\n",
    "# Reviewer rating vs. sentiment\n",
    "rating_sentiment_fig = px.box(df, x='Sentiment', y='Reviewer Rating')\n",
    "rating_sentiment_fig.update_layout(title='Reviewer Rating by Sentiment',xaxis_title='Sentiment',yaxis_title='Reviewer Rating')\n",
    "\n",
    "# Layout of the dashboard\n",
    "app.layout = html.Div([html.H1('Descriptive Analytics Dashboard'),html.Div([dcc.Graph(figure=rating_fig),dcc.Graph(figure=sentiment_fig)], className='row'),html.Div([dcc.Graph(figure=store_type_fig),dcc.Graph(figure=rating_sentiment_fig)], className='row')])\n",
    "\n",
    "# Run the app/\n",
    "if __name__ == '__main__':\n",
    "    app.run_server(port=8051)\n"
   ]
  },
  {
   "cell_type": "code",
   "execution_count": null,
   "id": "aa44979e",
   "metadata": {},
   "outputs": [],
   "source": []
  },
  {
   "cell_type": "code",
   "execution_count": null,
   "id": "86804ac0",
   "metadata": {},
   "outputs": [],
   "source": []
  },
  {
   "cell_type": "code",
   "execution_count": null,
   "id": "068bbf6a",
   "metadata": {},
   "outputs": [],
   "source": []
  }
 ],
 "metadata": {
  "kernelspec": {
   "display_name": "Python 3 (ipykernel)",
   "language": "python",
   "name": "python3"
  },
  "language_info": {
   "codemirror_mode": {
    "name": "ipython",
    "version": 3
   },
   "file_extension": ".py",
   "mimetype": "text/x-python",
   "name": "python",
   "nbconvert_exporter": "python",
   "pygments_lexer": "ipython3",
   "version": "3.9.12"
  }
 },
 "nbformat": 4,
 "nbformat_minor": 5
}
